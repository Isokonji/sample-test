{
  "nbformat": 4,
  "nbformat_minor": 0,
  "metadata": {
    "colab": {
      "provenance": [],
      "authorship_tag": "ABX9TyP6hpcuPmjUG6bVJ5q/dvxh",
      "include_colab_link": true
    },
    "kernelspec": {
      "name": "python3",
      "display_name": "Python 3"
    },
    "language_info": {
      "name": "python"
    }
  },
  "cells": [
    {
      "cell_type": "markdown",
      "metadata": {
        "id": "view-in-github",
        "colab_type": "text"
      },
      "source": [
        "<a href=\"https://colab.research.google.com/github/Isokonji/sample-test/blob/main/one_two_paired_sample_t_test.ipynb\" target=\"_parent\"><img src=\"https://colab.research.google.com/assets/colab-badge.svg\" alt=\"Open In Colab\"/></a>"
      ]
    },
    {
      "cell_type": "code",
      "execution_count": 2,
      "metadata": {
        "id": "BDFBL3ZTBdkI"
      },
      "outputs": [],
      "source": [
        "from scipy import stats"
      ]
    },
    {
      "cell_type": "markdown",
      "source": [
        "calculate the resting systolic blood pressure of 20 first year resident female doctors and compare it to the general population mean of 120 mmHg\n",
        "\n",
        "the null hypothesis\n",
        "there is no significant difference betweebthe blood pressure of resident doctors and general polpulation\n",
        "\n",
        "the alternate hypothesis\n",
        "there is a statistically significant difference between the blood pressures of resident femal doctors and the general population"
      ],
      "metadata": {
        "id": "gvwMPPEBCHmi"
      }
    },
    {
      "cell_type": "code",
      "source": [
        "#sample of blood pressure of 20 female docts\n",
        "female_doctor_bps= [128,127,118,115,114,142,133,140,132\n",
        "                    ,131,111,132,149,122,139,136,129,126,128,119]\n",
        "stats.ttest_1samp(female_doctor_bps,120)"
      ],
      "metadata": {
        "colab": {
          "base_uri": "https://localhost:8080/"
        },
        "id": "P2a3asi6BiSC",
        "outputId": "36a15b94-4978-4fdc-c94a-9989c4b4e686"
      },
      "execution_count": 2,
      "outputs": [
        {
          "output_type": "execute_result",
          "data": {
            "text/plain": [
              "TtestResult(statistic=np.float64(3.8207113134189), pvalue=np.float64(0.0011539093469827148), df=np.int64(19))"
            ]
          },
          "metadata": {},
          "execution_count": 2
        }
      ]
    },
    {
      "cell_type": "markdown",
      "source": [
        "our t-statistics value is 3.820 and along with the degree of freedom being 19 which is n-1, this can be used to calculate the p-value , here p-value is 0.0012 which is far less than the threshold of 0.05 or 0.01, so we reject the null hypothesis and can say there is statistically significant difference between the resting systolic blood pressure of the resident female doctor and the general population"
      ],
      "metadata": {
        "id": "f4C0HKs3DIwf"
      }
    },
    {
      "cell_type": "markdown",
      "source": [
        "TWO SAMPLES T TEST\n",
        "\n",
        "\n",
        "here we will compare the blood pressure of male consultant doctors with the junior resident female doctors we explored above\n",
        "\n",
        "null hypothesis\n",
        "there is no signioficant difference betweenb thge blood pressures of make consultant doctors and junior resident female doctors\n",
        "\n",
        "alternate hypotheis\n",
        "there is a stattistically significant difference between the blood pressure of male consultant doctors and junior resident female doctors"
      ],
      "metadata": {
        "id": "vB3gBS9lC2O9"
      }
    },
    {
      "cell_type": "code",
      "source": [
        "male_doctors_bps= [118,115,112,120,124,130,123,110,120,121,123,\n",
        "                 125,129,130,112,117,119,120,123,128]\n",
        "male_doctors_bps\n",
        "\n",
        "stats.ttest_ind(female_doctor_bps,male_doctors_bps)"
      ],
      "metadata": {
        "colab": {
          "base_uri": "https://localhost:8080/"
        },
        "id": "asTv-pKjFnr7",
        "outputId": "255cdb96-cad3-4dee-b704-70146202572d"
      },
      "execution_count": 5,
      "outputs": [
        {
          "output_type": "execute_result",
          "data": {
            "text/plain": [
              "TtestResult(statistic=np.float64(2.924728298668045), pvalue=np.float64(0.0057855078565290236), df=np.float64(38.0))"
            ]
          },
          "metadata": {},
          "execution_count": 5
        }
      ]
    },
    {
      "cell_type": "markdown",
      "source": [
        "our t-statistics value is 2.92 and degree of freefdom is 38, we use this to calculate the p value , which is 0.005, and since this is less than 0.05 or0.01 we reject the null hypothesis and we can statistically say that there is a significant difference between the resting systolic blood pressure of the resident female doctors and male consultant doctors"
      ],
      "metadata": {
        "id": "Lp1FuKltHUB7"
      }
    },
    {
      "cell_type": "markdown",
      "source": [
        "PAIRED SAMPLE TEST\n",
        "\n",
        "Here we want to compare or measure the amount of sleep got by patient before and after taking soporific durgs to help them sleep\n",
        "\n",
        "\n",
        "null hypothesis\n",
        "\n",
        "soporic drug has no effect on the sleep duration of the patient\n",
        "\n",
        "alternate hypothesis\n",
        "\n",
        "soporific drugs has an effect on the sleep duration of the patient"
      ],
      "metadata": {
        "id": "ANtTxywOJO27"
      }
    },
    {
      "cell_type": "code",
      "source": [
        "control=[8.0, 7.1,6.5,6.7,7.2,5.4,4.7,8.1,6.3,4.8]\n",
        "\n",
        "treatment=[9.9,7.9,7.6,6.8,7.1,9.9,10.5,9.7,10.9,8.2]\n",
        "\n",
        "stats.ttest_rel(control,treatment)"
      ],
      "metadata": {
        "colab": {
          "base_uri": "https://localhost:8080/"
        },
        "id": "pl5P1T3AJNmB",
        "outputId": "7ba5bfab-0fce-4c50-b315-8a40bdc2f931"
      },
      "execution_count": 3,
      "outputs": [
        {
          "output_type": "execute_result",
          "data": {
            "text/plain": [
              "TtestResult(statistic=np.float64(-3.6244859951782136), pvalue=np.float64(0.0055329408161001415), df=np.int64(9))"
            ]
          },
          "metadata": {},
          "execution_count": 3
        }
      ]
    },
    {
      "cell_type": "markdown",
      "source": [
        "out t statsitics value is -1.65 and degree of freedom is 9 this can be used to calculate a p-value.\n",
        "\n",
        "the p value is 0.055 which is below the 0.05 or 0.01 threshold , so we reject trhe null hypothesis we can say there is a statisical difference in sleep duration caused by soporific drug"
      ],
      "metadata": {
        "id": "06PHBH3QLTuy"
      }
    },
    {
      "cell_type": "code",
      "source": [],
      "metadata": {
        "id": "1L81paBFLPKd"
      },
      "execution_count": null,
      "outputs": []
    },
    {
      "cell_type": "code",
      "source": [],
      "metadata": {
        "id": "0rmHfz97LLuf"
      },
      "execution_count": null,
      "outputs": []
    }
  ]
}